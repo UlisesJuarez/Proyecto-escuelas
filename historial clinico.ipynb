{
 "cells": [
  {
   "cell_type": "code",
   "execution_count": 1,
   "metadata": {},
   "outputs": [],
   "source": [
    "import pandas as pd\n",
    "%matplotlib inline\n",
    "import matplotlib.pyplot as plt"
   ]
  },
  {
   "cell_type": "code",
   "execution_count": 2,
   "metadata": {},
   "outputs": [
    {
     "data": {
      "text/html": [
       "<div>\n",
       "<style scoped>\n",
       "    .dataframe tbody tr th:only-of-type {\n",
       "        vertical-align: middle;\n",
       "    }\n",
       "\n",
       "    .dataframe tbody tr th {\n",
       "        vertical-align: top;\n",
       "    }\n",
       "\n",
       "    .dataframe thead th {\n",
       "        text-align: right;\n",
       "    }\n",
       "</style>\n",
       "<table border=\"1\" class=\"dataframe\">\n",
       "  <thead>\n",
       "    <tr style=\"text-align: right;\">\n",
       "      <th></th>\n",
       "      <th>Escuela</th>\n",
       "      <th>Nombre de Alumna(o)</th>\n",
       "      <th>Edad</th>\n",
       "      <th>Sexo</th>\n",
       "      <th>La mama tuvo diabetes o azucar alta en el embarazo?</th>\n",
       "      <th>Se presento algun problema en la madre durante el embarazo?</th>\n",
       "      <th>Fue parto natural o cesarea?</th>\n",
       "      <th>Su hija(o) fue amamantada(o)</th>\n",
       "      <th>Papa</th>\n",
       "      <th>mama</th>\n",
       "      <th>...</th>\n",
       "      <th>La nina o nino ha padecido alguna enfermedad grave?</th>\n",
       "      <th>Si su respuesta fue Si, cuales?</th>\n",
       "      <th>Han operado a su hija(o) de algo?</th>\n",
       "      <th>Ha tenido ataques/convulsiones?</th>\n",
       "      <th>La menor o el menor tiende a (marque las que considere):</th>\n",
       "      <th>El estado animico habitual de la menor o el menor es:</th>\n",
       "      <th>Su hija(o) presenta alguna enfermedad en este momento?</th>\n",
       "      <th>Su hija(o) toma algun medicamento por prescripcion en este momento?</th>\n",
       "      <th>Su hija(o) tiene alguna alergia a algun medicamento, alimento o sustancia?</th>\n",
       "      <th>Maque que tratamientos alternativos ha recibido su hija(o):</th>\n",
       "    </tr>\n",
       "  </thead>\n",
       "  <tbody>\n",
       "    <tr>\n",
       "      <td>0</td>\n",
       "      <td>Eufemio Zapata</td>\n",
       "      <td>Sebastian Gael Cervantes Martinez</td>\n",
       "      <td>5.0</td>\n",
       "      <td>Hombre</td>\n",
       "      <td>No</td>\n",
       "      <td>No</td>\n",
       "      <td>Natural</td>\n",
       "      <td>Si</td>\n",
       "      <td>NaN</td>\n",
       "      <td>NaN</td>\n",
       "      <td>...</td>\n",
       "      <td>No</td>\n",
       "      <td>No</td>\n",
       "      <td>No</td>\n",
       "      <td>No</td>\n",
       "      <td>Enojo, Agresividad, Suspicaz-celoso</td>\n",
       "      <td>Afectuoso, Euforico</td>\n",
       "      <td>No</td>\n",
       "      <td>No</td>\n",
       "      <td>No</td>\n",
       "      <td>NaN</td>\n",
       "    </tr>\n",
       "    <tr>\n",
       "      <td>1</td>\n",
       "      <td>Eufemio Zapata</td>\n",
       "      <td>Yulisa Pelaiz Escamilla</td>\n",
       "      <td>16.0</td>\n",
       "      <td>Mujer</td>\n",
       "      <td>No</td>\n",
       "      <td>No</td>\n",
       "      <td>Natural</td>\n",
       "      <td>Si</td>\n",
       "      <td>Otra</td>\n",
       "      <td>NaN</td>\n",
       "      <td>...</td>\n",
       "      <td>No</td>\n",
       "      <td>No</td>\n",
       "      <td>No</td>\n",
       "      <td>No</td>\n",
       "      <td>Enojo, Resentimiento-odio, Obsesion, Llanto/De...</td>\n",
       "      <td>Afectuoso</td>\n",
       "      <td>No</td>\n",
       "      <td>No</td>\n",
       "      <td>No</td>\n",
       "      <td>Curandero</td>\n",
       "    </tr>\n",
       "    <tr>\n",
       "      <td>2</td>\n",
       "      <td>Eufemio Zapata</td>\n",
       "      <td>Alexander Cruz Quintero</td>\n",
       "      <td>5.0</td>\n",
       "      <td>Hombre</td>\n",
       "      <td>No</td>\n",
       "      <td>No</td>\n",
       "      <td>cesarea</td>\n",
       "      <td>No</td>\n",
       "      <td>NaN</td>\n",
       "      <td>NaN</td>\n",
       "      <td>...</td>\n",
       "      <td>No</td>\n",
       "      <td>No</td>\n",
       "      <td>No</td>\n",
       "      <td>No</td>\n",
       "      <td>Violencia fisica, Dificultad para concentrarse...</td>\n",
       "      <td>Afectuoso</td>\n",
       "      <td>No</td>\n",
       "      <td>No</td>\n",
       "      <td>No</td>\n",
       "      <td>Homeopatia, Remedios caseros</td>\n",
       "    </tr>\n",
       "    <tr>\n",
       "      <td>3</td>\n",
       "      <td>Jose de Tapia Bujalance</td>\n",
       "      <td>Alexa Fernanda Lopez Sedano</td>\n",
       "      <td>5.0</td>\n",
       "      <td>Mujer</td>\n",
       "      <td>No</td>\n",
       "      <td>No</td>\n",
       "      <td>cesarea</td>\n",
       "      <td>Si</td>\n",
       "      <td>Otra</td>\n",
       "      <td>Otra</td>\n",
       "      <td>...</td>\n",
       "      <td>No</td>\n",
       "      <td>NaN</td>\n",
       "      <td>No</td>\n",
       "      <td>No</td>\n",
       "      <td>Ansiedad, Sentimiento de abandono, Sentimiento...</td>\n",
       "      <td>Afectuoso</td>\n",
       "      <td>No</td>\n",
       "      <td>No</td>\n",
       "      <td>Si</td>\n",
       "      <td>Masaje</td>\n",
       "    </tr>\n",
       "    <tr>\n",
       "      <td>4</td>\n",
       "      <td>Jose de Tapia Bujalance</td>\n",
       "      <td>Uriel Villa De La Cruz</td>\n",
       "      <td>6.0</td>\n",
       "      <td>Hombre</td>\n",
       "      <td>No</td>\n",
       "      <td>No</td>\n",
       "      <td>Natural</td>\n",
       "      <td>Si</td>\n",
       "      <td>NaN</td>\n",
       "      <td>NaN</td>\n",
       "      <td>...</td>\n",
       "      <td>No</td>\n",
       "      <td>NaN</td>\n",
       "      <td>No</td>\n",
       "      <td>No</td>\n",
       "      <td>Ansiedad, Dificultad para concentrarse</td>\n",
       "      <td>Afectuoso</td>\n",
       "      <td>NaN</td>\n",
       "      <td>No</td>\n",
       "      <td>No</td>\n",
       "      <td>Remedios caseros, Masaje</td>\n",
       "    </tr>\n",
       "  </tbody>\n",
       "</table>\n",
       "<p>5 rows × 27 columns</p>\n",
       "</div>"
      ],
      "text/plain": [
       "                   Escuela                Nombre de Alumna(o)  Edad    Sexo  \\\n",
       "0           Eufemio Zapata  Sebastian Gael Cervantes Martinez   5.0  Hombre   \n",
       "1           Eufemio Zapata           Yulisa Pelaiz Escamilla   16.0   Mujer   \n",
       "2           Eufemio Zapata           Alexander Cruz Quintero    5.0  Hombre   \n",
       "3  Jose de Tapia Bujalance        Alexa Fernanda Lopez Sedano   5.0   Mujer   \n",
       "4  Jose de Tapia Bujalance             Uriel Villa De La Cruz   6.0  Hombre   \n",
       "\n",
       "  La mama tuvo diabetes o azucar alta en el embarazo?  \\\n",
       "0                                                 No    \n",
       "1                                                 No    \n",
       "2                                                 No    \n",
       "3                                                 No    \n",
       "4                                                 No    \n",
       "\n",
       "  Se presento algun problema en la madre durante el embarazo?  \\\n",
       "0                                                 No            \n",
       "1                                                 No            \n",
       "2                                                 No            \n",
       "3                                                 No            \n",
       "4                                                 No            \n",
       "\n",
       "  Fue parto natural o cesarea? Su hija(o) fue amamantada(o)  Papa  mama  ...  \\\n",
       "0                      Natural                           Si   NaN   NaN  ...   \n",
       "1                      Natural                           Si  Otra   NaN  ...   \n",
       "2                      cesarea                           No   NaN   NaN  ...   \n",
       "3                      cesarea                           Si  Otra  Otra  ...   \n",
       "4                      Natural                           Si   NaN   NaN  ...   \n",
       "\n",
       "  La nina o nino ha padecido alguna enfermedad grave?  \\\n",
       "0                                                 No    \n",
       "1                                                 No    \n",
       "2                                                 No    \n",
       "3                                                 No    \n",
       "4                                                 No    \n",
       "\n",
       "  Si su respuesta fue Si, cuales? Han operado a su hija(o) de algo?  \\\n",
       "0                              No                                No   \n",
       "1                              No                                No   \n",
       "2                              No                                No   \n",
       "3                             NaN                                No   \n",
       "4                             NaN                                No   \n",
       "\n",
       "  Ha tenido ataques/convulsiones?  \\\n",
       "0                              No   \n",
       "1                              No   \n",
       "2                              No   \n",
       "3                              No   \n",
       "4                              No   \n",
       "\n",
       "  La menor o el menor tiende a (marque las que considere):  \\\n",
       "0                Enojo, Agresividad, Suspicaz-celoso         \n",
       "1  Enojo, Resentimiento-odio, Obsesion, Llanto/De...         \n",
       "2  Violencia fisica, Dificultad para concentrarse...         \n",
       "3  Ansiedad, Sentimiento de abandono, Sentimiento...         \n",
       "4             Ansiedad, Dificultad para concentrarse         \n",
       "\n",
       "  El estado animico habitual de la menor o el menor es:  \\\n",
       "0                                Afectuoso, Euforico      \n",
       "1                                          Afectuoso      \n",
       "2                                          Afectuoso      \n",
       "3                                          Afectuoso      \n",
       "4                                          Afectuoso      \n",
       "\n",
       "  Su hija(o) presenta alguna enfermedad en este momento?  \\\n",
       "0                                                 No       \n",
       "1                                                 No       \n",
       "2                                                 No       \n",
       "3                                                 No       \n",
       "4                                                NaN       \n",
       "\n",
       "  Su hija(o) toma algun medicamento por prescripcion en este momento?  \\\n",
       "0                                                 No                    \n",
       "1                                                 No                    \n",
       "2                                                 No                    \n",
       "3                                                 No                    \n",
       "4                                                 No                    \n",
       "\n",
       "  Su hija(o) tiene alguna alergia a algun medicamento, alimento o sustancia?  \\\n",
       "0                                                 No                           \n",
       "1                                                 No                           \n",
       "2                                                 No                           \n",
       "3                                                 Si                           \n",
       "4                                                 No                           \n",
       "\n",
       "  Maque que tratamientos alternativos ha recibido su hija(o):  \n",
       "0                                                NaN           \n",
       "1                                          Curandero           \n",
       "2                       Homeopatia, Remedios caseros           \n",
       "3                                             Masaje           \n",
       "4                           Remedios caseros, Masaje           \n",
       "\n",
       "[5 rows x 27 columns]"
      ]
     },
     "execution_count": 2,
     "metadata": {},
     "output_type": "execute_result"
    }
   ],
   "source": [
    "datos=pd.read_csv(\"historial_clinico.csv\")\n",
    "datos.head()"
   ]
  },
  {
   "cell_type": "code",
   "execution_count": 3,
   "metadata": {},
   "outputs": [
    {
     "data": {
      "text/plain": [
       "0       No\n",
       "1       No\n",
       "2       No\n",
       "3       No\n",
       "4       No\n",
       "      ... \n",
       "606    NaN\n",
       "607     No\n",
       "608     No\n",
       "609     No\n",
       "610     No\n",
       "Name: La mama tuvo diabetes o azucar alta en el embarazo?, Length: 611, dtype: object"
      ]
     },
     "execution_count": 3,
     "metadata": {},
     "output_type": "execute_result"
    }
   ],
   "source": [
    "datos[\"La mama tuvo diabetes o azucar alta en el embarazo?\"]"
   ]
  },
  {
   "cell_type": "code",
   "execution_count": 7,
   "metadata": {},
   "outputs": [
    {
     "data": {
      "text/plain": [
       "Escuela                                                                                                                                                                     0\n",
       "Nombre de Alumna(o)                                                                                                                                                         0\n",
       "Edad                                                                                                                                                                       46\n",
       "Sexo                                                                                                                                                                       17\n",
       "La mama tuvo diabetes o azucar alta en el embarazo?                                                                                                                        47\n",
       "Se presento algun problema en la madre durante el embarazo?                                                                                                                47\n",
       "Fue parto natural o cesarea?                                                                                                                                               40\n",
       "Su hija(o) fue amamantada(o)                                                                                                                                               48\n",
       "Papa                                                                                                                                                                      522\n",
       "mama                                                                                                                                                                      528\n",
       "Abuela materna                                                                                                                                                            341\n",
       "Abuela paterna                                                                                                                                                            428\n",
       "Abuelo materno                                                                                                                                                            453\n",
       "Abuelo paterno                                                                                                                                                            423\n",
       "Tias(os) maternos                                                                                                                                                         521\n",
       "Tias(os) paternos                                                                                                                                                         548\n",
       "Si su respuesta fue Otra, por favor mencione cual y que familiar. (Capturar todas las enfermedades que se registraron en la Historia Clinica aplicada presencialmente)    302\n",
       "La nina o nino ha padecido alguna enfermedad grave?                                                                                                                        42\n",
       "Si su respuesta fue Si, cuales?                                                                                                                                           549\n",
       "Han operado a su hija(o) de algo?                                                                                                                                          51\n",
       "Ha tenido ataques/convulsiones?                                                                                                                                            49\n",
       "La menor o el menor tiende a (marque las que considere):                                                                                                                  108\n",
       "El estado animico habitual de la menor o el menor es:                                                                                                                     113\n",
       "Su hija(o) presenta alguna enfermedad en este momento?                                                                                                                     65\n",
       "Su hija(o) toma algun medicamento por prescripcion en este momento?                                                                                                        68\n",
       "Su hija(o) tiene alguna alergia a algun medicamento, alimento o sustancia?                                                                                                 70\n",
       "Maque que tratamientos alternativos ha recibido su hija(o):                                                                                                               246\n",
       "dtype: int64"
      ]
     },
     "execution_count": 7,
     "metadata": {},
     "output_type": "execute_result"
    }
   ],
   "source": [
    "datos.isna().sum(axis=0)"
   ]
  },
  {
   "cell_type": "code",
   "execution_count": 11,
   "metadata": {},
   "outputs": [
    {
     "data": {
      "text/html": [
       "<div>\n",
       "<style scoped>\n",
       "    .dataframe tbody tr th:only-of-type {\n",
       "        vertical-align: middle;\n",
       "    }\n",
       "\n",
       "    .dataframe tbody tr th {\n",
       "        vertical-align: top;\n",
       "    }\n",
       "\n",
       "    .dataframe thead th {\n",
       "        text-align: right;\n",
       "    }\n",
       "</style>\n",
       "<table border=\"1\" class=\"dataframe\">\n",
       "  <thead>\n",
       "    <tr style=\"text-align: right;\">\n",
       "      <th>La mama tuvo diabetes o azucar alta en el embarazo?</th>\n",
       "      <th>No</th>\n",
       "      <th>No Se</th>\n",
       "      <th>Si</th>\n",
       "    </tr>\n",
       "    <tr>\n",
       "      <th>Sexo</th>\n",
       "      <th></th>\n",
       "      <th></th>\n",
       "      <th></th>\n",
       "    </tr>\n",
       "  </thead>\n",
       "  <tbody>\n",
       "    <tr>\n",
       "      <td>Hombre</td>\n",
       "      <td>268</td>\n",
       "      <td>2</td>\n",
       "      <td>3</td>\n",
       "    </tr>\n",
       "    <tr>\n",
       "      <td>Mujer</td>\n",
       "      <td>283</td>\n",
       "      <td>1</td>\n",
       "      <td>3</td>\n",
       "    </tr>\n",
       "  </tbody>\n",
       "</table>\n",
       "</div>"
      ],
      "text/plain": [
       "La mama tuvo diabetes o azucar alta en el embarazo?   No  No Se  Si\n",
       "Sexo                                                               \n",
       "Hombre                                               268      2   3\n",
       "Mujer                                                283      1   3"
      ]
     },
     "execution_count": 11,
     "metadata": {},
     "output_type": "execute_result"
    }
   ],
   "source": [
    "azucar=pd.crosstab(datos.Sexo,datos[\"La mama tuvo diabetes o azucar alta en el embarazo?\"])\n",
    "azucar"
   ]
  },
  {
   "cell_type": "code",
   "execution_count": 27,
   "metadata": {},
   "outputs": [
    {
     "data": {
      "image/png": "[encoded data removed]",
      "text/plain": [
       "<Figure size 432x288 with 1 Axes>"
      ]
     },
     "metadata": {
      "needs_background": "light"
     },
     "output_type": "display_data"
    }
   ],
   "source": [
    "fig=azucar.plot(kind=\"bar\",figsize=(6,4),title=\"Antecedentes prenatales enfermedades\",cmap=\"winter\").get_figure()\n",
    "fig.autofmt_xdate(rotation=0)\n",
    "fig.savefig(\"ant_prenatales_azucar.png\")"
   ]
  },
  {
   "cell_type": "code",
   "execution_count": 19,
   "metadata": {},
   "outputs": [
    {
     "data": {
      "text/html": [
       "<div>\n",
       "<style scoped>\n",
       "    .dataframe tbody tr th:only-of-type {\n",
       "        vertical-align: middle;\n",
       "    }\n",
       "\n",
       "    .dataframe tbody tr th {\n",
       "        vertical-align: top;\n",
       "    }\n",
       "\n",
       "    .dataframe thead th {\n",
       "        text-align: right;\n",
       "    }\n",
       "</style>\n",
       "<table border=\"1\" class=\"dataframe\">\n",
       "  <thead>\n",
       "    <tr style=\"text-align: right;\">\n",
       "      <th></th>\n",
       "      <th>Escuela</th>\n",
       "      <th>Nombre de Alumna(o)</th>\n",
       "      <th>Edad</th>\n",
       "      <th>Sexo</th>\n",
       "      <th>La mama tuvo diabetes o azucar alta en el embarazo?</th>\n",
       "      <th>Se presento algun problema en la madre durante el embarazo?</th>\n",
       "      <th>Fue parto natural o cesarea?</th>\n",
       "      <th>Su hija(o) fue amamantada(o)</th>\n",
       "      <th>Papa</th>\n",
       "      <th>mama</th>\n",
       "      <th>...</th>\n",
       "      <th>La nina o nino ha padecido alguna enfermedad grave?</th>\n",
       "      <th>Si su respuesta fue Si, cuales?</th>\n",
       "      <th>Han operado a su hija(o) de algo?</th>\n",
       "      <th>Ha tenido ataques/convulsiones?</th>\n",
       "      <th>La menor o el menor tiende a (marque las que considere):</th>\n",
       "      <th>El estado animico habitual de la menor o el menor es:</th>\n",
       "      <th>Su hija(o) presenta alguna enfermedad en este momento?</th>\n",
       "      <th>Su hija(o) toma algun medicamento por prescripcion en este momento?</th>\n",
       "      <th>Su hija(o) tiene alguna alergia a algun medicamento, alimento o sustancia?</th>\n",
       "      <th>Maque que tratamientos alternativos ha recibido su hija(o):</th>\n",
       "    </tr>\n",
       "  </thead>\n",
       "  <tbody>\n",
       "    <tr>\n",
       "      <td>0</td>\n",
       "      <td>Eufemio Zapata</td>\n",
       "      <td>Sebastian Gael Cervantes Martinez</td>\n",
       "      <td>5.0</td>\n",
       "      <td>Hombre</td>\n",
       "      <td>No</td>\n",
       "      <td>No</td>\n",
       "      <td>Natural</td>\n",
       "      <td>Si</td>\n",
       "      <td>NaN</td>\n",
       "      <td>NaN</td>\n",
       "      <td>...</td>\n",
       "      <td>No</td>\n",
       "      <td>No</td>\n",
       "      <td>No</td>\n",
       "      <td>No</td>\n",
       "      <td>Enojo, Agresividad, Suspicaz-celoso</td>\n",
       "      <td>Afectuoso, Euforico</td>\n",
       "      <td>No</td>\n",
       "      <td>No</td>\n",
       "      <td>No</td>\n",
       "      <td>NaN</td>\n",
       "    </tr>\n",
       "    <tr>\n",
       "      <td>1</td>\n",
       "      <td>Eufemio Zapata</td>\n",
       "      <td>Yulisa Pelaiz Escamilla</td>\n",
       "      <td>16.0</td>\n",
       "      <td>Mujer</td>\n",
       "      <td>No</td>\n",
       "      <td>No</td>\n",
       "      <td>Natural</td>\n",
       "      <td>Si</td>\n",
       "      <td>Otra</td>\n",
       "      <td>NaN</td>\n",
       "      <td>...</td>\n",
       "      <td>No</td>\n",
       "      <td>No</td>\n",
       "      <td>No</td>\n",
       "      <td>No</td>\n",
       "      <td>Enojo, Resentimiento-odio, Obsesion, Llanto/De...</td>\n",
       "      <td>Afectuoso</td>\n",
       "      <td>No</td>\n",
       "      <td>No</td>\n",
       "      <td>No</td>\n",
       "      <td>Curandero</td>\n",
       "    </tr>\n",
       "    <tr>\n",
       "      <td>2</td>\n",
       "      <td>Eufemio Zapata</td>\n",
       "      <td>Alexander Cruz Quintero</td>\n",
       "      <td>5.0</td>\n",
       "      <td>Hombre</td>\n",
       "      <td>No</td>\n",
       "      <td>No</td>\n",
       "      <td>cesarea</td>\n",
       "      <td>No</td>\n",
       "      <td>NaN</td>\n",
       "      <td>NaN</td>\n",
       "      <td>...</td>\n",
       "      <td>No</td>\n",
       "      <td>No</td>\n",
       "      <td>No</td>\n",
       "      <td>No</td>\n",
       "      <td>Violencia fisica, Dificultad para concentrarse...</td>\n",
       "      <td>Afectuoso</td>\n",
       "      <td>No</td>\n",
       "      <td>No</td>\n",
       "      <td>No</td>\n",
       "      <td>Homeopatia, Remedios caseros</td>\n",
       "    </tr>\n",
       "    <tr>\n",
       "      <td>3</td>\n",
       "      <td>Jose de Tapia Bujalance</td>\n",
       "      <td>Alexa Fernanda Lopez Sedano</td>\n",
       "      <td>5.0</td>\n",
       "      <td>Mujer</td>\n",
       "      <td>No</td>\n",
       "      <td>No</td>\n",
       "      <td>cesarea</td>\n",
       "      <td>Si</td>\n",
       "      <td>Otra</td>\n",
       "      <td>Otra</td>\n",
       "      <td>...</td>\n",
       "      <td>No</td>\n",
       "      <td>NaN</td>\n",
       "      <td>No</td>\n",
       "      <td>No</td>\n",
       "      <td>Ansiedad, Sentimiento de abandono, Sentimiento...</td>\n",
       "      <td>Afectuoso</td>\n",
       "      <td>No</td>\n",
       "      <td>No</td>\n",
       "      <td>Si</td>\n",
       "      <td>Masaje</td>\n",
       "    </tr>\n",
       "    <tr>\n",
       "      <td>4</td>\n",
       "      <td>Jose de Tapia Bujalance</td>\n",
       "      <td>Uriel Villa De La Cruz</td>\n",
       "      <td>6.0</td>\n",
       "      <td>Hombre</td>\n",
       "      <td>No</td>\n",
       "      <td>No</td>\n",
       "      <td>Natural</td>\n",
       "      <td>Si</td>\n",
       "      <td>NaN</td>\n",
       "      <td>NaN</td>\n",
       "      <td>...</td>\n",
       "      <td>No</td>\n",
       "      <td>NaN</td>\n",
       "      <td>No</td>\n",
       "      <td>No</td>\n",
       "      <td>Ansiedad, Dificultad para concentrarse</td>\n",
       "      <td>Afectuoso</td>\n",
       "      <td>NaN</td>\n",
       "      <td>No</td>\n",
       "      <td>No</td>\n",
       "      <td>Remedios caseros, Masaje</td>\n",
       "    </tr>\n",
       "  </tbody>\n",
       "</table>\n",
       "<p>5 rows × 27 columns</p>\n",
       "</div>"
      ],
      "text/plain": [
       "                   Escuela                Nombre de Alumna(o)  Edad    Sexo  \\\n",
       "0           Eufemio Zapata  Sebastian Gael Cervantes Martinez   5.0  Hombre   \n",
       "1           Eufemio Zapata           Yulisa Pelaiz Escamilla   16.0   Mujer   \n",
       "2           Eufemio Zapata           Alexander Cruz Quintero    5.0  Hombre   \n",
       "3  Jose de Tapia Bujalance        Alexa Fernanda Lopez Sedano   5.0   Mujer   \n",
       "4  Jose de Tapia Bujalance             Uriel Villa De La Cruz   6.0  Hombre   \n",
       "\n",
       "  La mama tuvo diabetes o azucar alta en el embarazo?  \\\n",
       "0                                                 No    \n",
       "1                                                 No    \n",
       "2                                                 No    \n",
       "3                                                 No    \n",
       "4                                                 No    \n",
       "\n",
       "  Se presento algun problema en la madre durante el embarazo?  \\\n",
       "0                                                 No            \n",
       "1                                                 No            \n",
       "2                                                 No            \n",
       "3                                                 No            \n",
       "4                                                 No            \n",
       "\n",
       "  Fue parto natural o cesarea? Su hija(o) fue amamantada(o)  Papa  mama  ...  \\\n",
       "0                      Natural                           Si   NaN   NaN  ...   \n",
       "1                      Natural                           Si  Otra   NaN  ...   \n",
       "2                      cesarea                           No   NaN   NaN  ...   \n",
       "3                      cesarea                           Si  Otra  Otra  ...   \n",
       "4                      Natural                           Si   NaN   NaN  ...   \n",
       "\n",
       "  La nina o nino ha padecido alguna enfermedad grave?  \\\n",
       "0                                                 No    \n",
       "1                                                 No    \n",
       "2                                                 No    \n",
       "3                                                 No    \n",
       "4                                                 No    \n",
       "\n",
       "  Si su respuesta fue Si, cuales? Han operado a su hija(o) de algo?  \\\n",
       "0                              No                                No   \n",
       "1                              No                                No   \n",
       "2                              No                                No   \n",
       "3                             NaN                                No   \n",
       "4                             NaN                                No   \n",
       "\n",
       "  Ha tenido ataques/convulsiones?  \\\n",
       "0                              No   \n",
       "1                              No   \n",
       "2                              No   \n",
       "3                              No   \n",
       "4                              No   \n",
       "\n",
       "  La menor o el menor tiende a (marque las que considere):  \\\n",
       "0                Enojo, Agresividad, Suspicaz-celoso         \n",
       "1  Enojo, Resentimiento-odio, Obsesion, Llanto/De...         \n",
       "2  Violencia fisica, Dificultad para concentrarse...         \n",
       "3  Ansiedad, Sentimiento de abandono, Sentimiento...         \n",
       "4             Ansiedad, Dificultad para concentrarse         \n",
       "\n",
       "  El estado animico habitual de la menor o el menor es:  \\\n",
       "0                                Afectuoso, Euforico      \n",
       "1                                          Afectuoso      \n",
       "2                                          Afectuoso      \n",
       "3                                          Afectuoso      \n",
       "4                                          Afectuoso      \n",
       "\n",
       "  Su hija(o) presenta alguna enfermedad en este momento?  \\\n",
       "0                                                 No       \n",
       "1                                                 No       \n",
       "2                                                 No       \n",
       "3                                                 No       \n",
       "4                                                NaN       \n",
       "\n",
       "  Su hija(o) toma algun medicamento por prescripcion en este momento?  \\\n",
       "0                                                 No                    \n",
       "1                                                 No                    \n",
       "2                                                 No                    \n",
       "3                                                 No                    \n",
       "4                                                 No                    \n",
       "\n",
       "  Su hija(o) tiene alguna alergia a algun medicamento, alimento o sustancia?  \\\n",
       "0                                                 No                           \n",
       "1                                                 No                           \n",
       "2                                                 No                           \n",
       "3                                                 Si                           \n",
       "4                                                 No                           \n",
       "\n",
       "  Maque que tratamientos alternativos ha recibido su hija(o):  \n",
       "0                                                NaN           \n",
       "1                                          Curandero           \n",
       "2                       Homeopatia, Remedios caseros           \n",
       "3                                             Masaje           \n",
       "4                           Remedios caseros, Masaje           \n",
       "\n",
       "[5 rows x 27 columns]"
      ]
     },
     "execution_count": 19,
     "metadata": {},
     "output_type": "execute_result"
    }
   ],
   "source": [
    "datos.head()"
   ]
  },
  {
   "cell_type": "code",
   "execution_count": 22,
   "metadata": {},
   "outputs": [
    {
     "data": {
      "text/plain": [
       "0    Natural\n",
       "1    Natural\n",
       "2    cesarea\n",
       "3    cesarea\n",
       "4    Natural\n",
       "Name: Fue parto natural o cesarea?, dtype: object"
      ]
     },
     "execution_count": 22,
     "metadata": {},
     "output_type": "execute_result"
    }
   ],
   "source": [
    "datos[\"Fue parto natural o cesarea?\"].head()"
   ]
  },
  {
   "cell_type": "code",
   "execution_count": 23,
   "metadata": {},
   "outputs": [
    {
     "data": {
      "text/html": [
       "<div>\n",
       "<style scoped>\n",
       "    .dataframe tbody tr th:only-of-type {\n",
       "        vertical-align: middle;\n",
       "    }\n",
       "\n",
       "    .dataframe tbody tr th {\n",
       "        vertical-align: top;\n",
       "    }\n",
       "\n",
       "    .dataframe thead th {\n",
       "        text-align: right;\n",
       "    }\n",
       "</style>\n",
       "<table border=\"1\" class=\"dataframe\">\n",
       "  <thead>\n",
       "    <tr style=\"text-align: right;\">\n",
       "      <th>Fue parto natural o cesarea?</th>\n",
       "      <th>Natural</th>\n",
       "      <th>cesarea</th>\n",
       "    </tr>\n",
       "    <tr>\n",
       "      <th>Sexo</th>\n",
       "      <th></th>\n",
       "      <th></th>\n",
       "    </tr>\n",
       "  </thead>\n",
       "  <tbody>\n",
       "    <tr>\n",
       "      <td>Hombre</td>\n",
       "      <td>116</td>\n",
       "      <td>158</td>\n",
       "    </tr>\n",
       "    <tr>\n",
       "      <td>Mujer</td>\n",
       "      <td>120</td>\n",
       "      <td>173</td>\n",
       "    </tr>\n",
       "  </tbody>\n",
       "</table>\n",
       "</div>"
      ],
      "text/plain": [
       "Fue parto natural o cesarea?  Natural  cesarea\n",
       "Sexo                                          \n",
       "Hombre                            116      158\n",
       "Mujer                             120      173"
      ]
     },
     "execution_count": 23,
     "metadata": {},
     "output_type": "execute_result"
    }
   ],
   "source": [
    "parto=pd.crosstab(datos.Sexo,datos[\"Fue parto natural o cesarea?\"])\n",
    "parto"
   ]
  },
  {
   "cell_type": "code",
   "execution_count": 28,
   "metadata": {},
   "outputs": [
    {
     "data": {
      "image/png": "[encoded data removed]",
      "text/plain": [
       "<Figure size 432x288 with 1 Axes>"
      ]
     },
     "metadata": {
      "needs_background": "light"
     },
     "output_type": "display_data"
    }
   ],
   "source": [
    "fig=parto.plot(kind=\"bar\",figsize=(6,4),title=\"Tipo de parto de la madre\",cmap=\"winter\").get_figure()\n",
    "fig.autofmt_xdate(rotation=0)\n",
    "fig.savefig(\"tipo_parto.png\")"
   ]
  },
  {
   "cell_type": "markdown",
   "metadata": {},
   "source": [
    "### Antecedentes heredofamiliares"
   ]
  },
  {
   "cell_type": "code",
   "execution_count": 42,
   "metadata": {},
   "outputs": [
    {
     "data": {
      "text/plain": [
       "<matplotlib.axes._subplots.AxesSubplot at 0x1b8e6581ec8>"
      ]
     },
     "execution_count": 42,
     "metadata": {},
     "output_type": "execute_result"
    },
    {
     "data": {
      "image/png": "[encoded data removed]",
      "text/plain": [
       "<Figure size 432x288 with 1 Axes>"
      ]
     },
     "metadata": {
      "needs_background": "light"
     },
     "output_type": "display_data"
    }
   ],
   "source": [
    "fig=datos[\"Papa\"].value_counts().plot(kind=\"bar\")\n"
   ]
  },
  {
   "cell_type": "code",
   "execution_count": 206,
   "metadata": {},
   "outputs": [
    {
     "data": {
      "text/plain": [
       "Otra                                       59\n",
       "Diabetes                                    6\n",
       "Diabetes, Otra                              4\n",
       "Hipertension, Otra                          3\n",
       "Cardiacas                                   2\n",
       "Diabetes, Hipertension, Otra                2\n",
       "Hipertension                                2\n",
       "Diabetes, Hipertension, Cardiacas, Otra     1\n",
       "Epilepsia                                   1\n",
       "Diabetes, Hipertension                      1\n",
       "Cancer, Otra                                1\n",
       "Cancer                                      1\n",
       "Name: mama, dtype: int64"
      ]
     },
     "execution_count": 206,
     "metadata": {},
     "output_type": "execute_result"
    }
   ],
   "source": [
    "enfermedades=datos[\"mama\"].value_counts()\n",
    "enfermedades"
   ]
  },
  {
   "cell_type": "code",
   "execution_count": 207,
   "metadata": {},
   "outputs": [],
   "source": [
    "lista_enfermedades={}"
   ]
  },
  {
   "cell_type": "code",
   "execution_count": 208,
   "metadata": {},
   "outputs": [],
   "source": [
    "for i in enfermedades.items():\n",
    "    if(i[0] in lista_enfermedades.keys()):\n",
    "        lista_enfermedades[i[0]]=lista_enfermedades[i[0]]+i[1]\n",
    "    else:\n",
    "        if  \",\" not in i[0]:\n",
    "            lista_enfermedades[i[0]]=i[1]\n",
    "        else:\n",
    "            separa=i[0].split(\",\")\n",
    "            for j in separa:\n",
    "                if(j.strip() in lista_enfermedades.keys()):\n",
    "                    lista_enfermedades[j.strip()]=lista_enfermedades[j.strip()]+i[1]\n",
    "                else:\n",
    "                    lista_enfermedades[j.strip()]=i[1]\n",
    "        \n",
    "                "
   ]
  },
  {
   "cell_type": "code",
   "execution_count": 209,
   "metadata": {},
   "outputs": [
    {
     "data": {
      "text/plain": [
       "{'Otra': 70,\n",
       " 'Diabetes': 14,\n",
       " 'Hipertension': 9,\n",
       " 'Cardiacas': 3,\n",
       " 'Epilepsia': 1,\n",
       " 'Cancer': 2}"
      ]
     },
     "execution_count": 209,
     "metadata": {},
     "output_type": "execute_result"
    }
   ],
   "source": [
    "lista_enfermedades"
   ]
  },
  {
   "cell_type": "code",
   "execution_count": 210,
   "metadata": {},
   "outputs": [
    {
     "data": {
      "text/plain": [
       "['Otra', 'Diabetes', 'Hipertension', 'Cardiacas', 'Epilepsia', 'Cancer']"
      ]
     },
     "execution_count": 210,
     "metadata": {},
     "output_type": "execute_result"
    }
   ],
   "source": [
    "lista_enfermedades.keys()\n",
    "x=[i for i in lista_enfermedades.keys()]\n",
    "x"
   ]
  },
  {
   "cell_type": "code",
   "execution_count": 212,
   "metadata": {},
   "outputs": [
    {
     "data": {
      "text/plain": [
       "[70, 14, 9, 3, 1, 2]"
      ]
     },
     "execution_count": 212,
     "metadata": {},
     "output_type": "execute_result"
    }
   ],
   "source": [
    "lista_enfermedades.values()\n",
    "y=[i for i in lista_enfermedades.values()]\n",
    "y"
   ]
  },
  {
   "cell_type": "code",
   "execution_count": 213,
   "metadata": {},
   "outputs": [
    {
     "data": {
      "image/png": "[encoded data removed]",
      "text/plain": [
       "<Figure size 720x432 with 1 Axes>"
      ]
     },
     "metadata": {
      "needs_background": "light"
     },
     "output_type": "display_data"
    }
   ],
   "source": [
    "fig,ax=plt.subplots(figsize=(10,6))\n",
    "ax.bar(x,y,color=\"lightseagreen\")\n",
    "ax.set(title=\"Enfermedades mamá\",\n",
    "      xlabel=\"Enfermedad\",\n",
    "      ylabel=\"Frecuencia\");\n"
   ]
  },
  {
   "cell_type": "code",
   "execution_count": null,
   "metadata": {},
   "outputs": [],
   "source": []
  }
 ],
 "metadata": {
  "kernelspec": {
   "display_name": "Python 3",
   "language": "python",
   "name": "python3"
  },
  "language_info": {
   "codemirror_mode": {
    "name": "ipython",
    "version": 3
   },
   "file_extension": ".py",
   "mimetype": "text/x-python",
   "name": "python",
   "nbconvert_exporter": "python",
   "pygments_lexer": "ipython3",
   "version": "3.7.4"
  }
 },
 "nbformat": 4,
 "nbformat_minor": 2
}
